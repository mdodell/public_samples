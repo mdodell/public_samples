{
 "cells": [
  {
   "cell_type": "markdown",
   "metadata": {},
   "source": [
    "### Basic Stuff - What's different about Ruby\n",
    "* Lets start with some easy stuff\n",
    "* Compared to Java and Javascript which you probably know"
   ]
  },
  {
   "cell_type": "code",
   "execution_count": 1,
   "metadata": {},
   "outputs": [
    {
     "name": "stdout",
     "output_type": "stream",
     "text": [
      "3\n"
     ]
    }
   ],
   "source": [
    "# no semicolons required at the end of a statement\n",
    "x = 1 + 2\n",
    "puts x"
   ]
  },
  {
   "cell_type": "code",
   "execution_count": 2,
   "metadata": {},
   "outputs": [
    {
     "name": "stdout",
     "output_type": "stream",
     "text": [
      "102\n"
     ]
    }
   ],
   "source": [
    "# no parentheses needed when calling a method\n",
    "def add var1, var2\n",
    "  return var1 + var2\n",
    "end\n",
    "\n",
    "puts add 100, 2"
   ]
  },
  {
   "cell_type": "code",
   "execution_count": 3,
   "metadata": {},
   "outputs": [
    {
     "name": "stdout",
     "output_type": "stream",
     "text": [
      "1212\n"
     ]
    }
   ],
   "source": [
    "# Whitespace *is* significant\n",
    "\n",
    "def mult(var1, var2)\n",
    "    return var1 * var2\n",
    "end\n",
    "\n",
    "puts mult(12,101)"
   ]
  },
  {
   "cell_type": "code",
   "execution_count": 4,
   "metadata": {},
   "outputs": [
    {
     "name": "stdout",
     "output_type": "stream",
     "text": [
      "Pito\n",
      "44\n"
     ]
    }
   ],
   "source": [
    "# Dynamic typing, so no variable declarations\n",
    "\n",
    "my_name = \"Pito\"\n",
    "my_number = 44\n",
    "puts my_name, my_number"
   ]
  },
  {
   "cell_type": "code",
   "execution_count": 8,
   "metadata": {},
   "outputs": [
    {
     "name": "stdout",
     "output_type": "stream",
     "text": [
      "String\n",
      "Integer\n"
     ]
    }
   ],
   "source": [
    "# Object oriented, everything is has a class and is an instance of some other class\n",
    "\n",
    "puts my_name.class\n",
    "puts my_number.class"
   ]
  },
  {
   "cell_type": "code",
   "execution_count": 9,
   "metadata": {},
   "outputs": [
    {
     "name": "stdout",
     "output_type": "stream",
     "text": [
      "Integer\n",
      "Integer\n"
     ]
    }
   ],
   "source": [
    "# Note that the variables reference the object, which has the class\n",
    "\n",
    "my_name = my_number\n",
    "puts my_name.class\n",
    "puts my_number.class"
   ]
  },
  {
   "cell_type": "code",
   "execution_count": 10,
   "metadata": {},
   "outputs": [
    {
     "name": "stdout",
     "output_type": "stream",
     "text": [
      "[\"Pito\", \"Salas\"]\n",
      "{:city=>\"Arlington\", :street=>\"Intervale Road\", :number=>12}\n"
     ]
    }
   ],
   "source": [
    "# We have the standard collections, arrays and hashes\n",
    "# in python, array -> list, and hash -> dictionary\n",
    "# in java, array -> arraylist and hash -> hashmap\n",
    "\n",
    "my_names = [\"Pito\", \"Salas\"]\n",
    "my_address = {city: \"Arlington\", street: \"Intervale Road\", number: 12}\n",
    "\n",
    "puts my_names\n",
    "puts my_address\n"
   ]
  },
  {
   "cell_type": "code",
   "execution_count": 13,
   "metadata": {},
   "outputs": [
    {
     "name": "stdout",
     "output_type": "stream",
     "text": [
      "george washington\n",
      "washington george\n"
     ]
    }
   ],
   "source": [
    "# The primitive values are the usual ones, number, string, boolean\n",
    "# But there's one novel one, a xxx\n",
    "# Also notice #{} - string interpolation\n",
    "\n",
    "def print_name(first, last, direction)\n",
    "  if direction == :forward\n",
    "    puts \"#{first} #{last}\"\n",
    "  else\n",
    "    puts \"#{last}, #{first}\"\n",
    "  end\n",
    "end\n",
    "\n",
    "print_name \"george\", \"washington\", :forward\n",
    "print_name \"george\", \"washington\", :reverse\n",
    "\n"
   ]
  },
  {
   "cell_type": "markdown",
   "metadata": {},
   "source": []
  }
 ],
 "metadata": {
  "kernelspec": {
   "display_name": "Ruby 2.7.2",
   "language": "ruby",
   "name": "ruby"
  },
  "language_info": {
   "file_extension": ".rb",
   "mimetype": "application/x-ruby",
   "name": "ruby",
   "version": "2.7.2"
  }
 },
 "nbformat": 4,
 "nbformat_minor": 4
}