{
 "cells": [
  {
   "cell_type": "markdown",
   "metadata": {},
   "source": [
    "## Doing Object Oriented Programming\n",
    "\n",
    "* Creating a class\n",
    "* Instance variables\n",
    "* Methods\n",
    "* Accessibility\n",
    "* Duck Typing"
   ]
  },
  {
   "cell_type": "code",
   "execution_count": 18,
   "metadata": {},
   "outputs": [
    {
     "name": "stdout",
     "output_type": "stream",
     "text": [
      "Soldier's rank is: ensign\n"
     ]
    }
   ],
   "source": [
    "# An elementary class\n",
    "# Create an instance of the class with ClassName.new\n",
    "# Instance variables are always private, access can only be done through methods\n",
    "# Constructor is a method called `initialize`\n",
    "\n",
    "class StarTrekCharacter\n",
    "  def initialize(rank)\n",
    "    @rank = rank\n",
    "  end\n",
    "  \n",
    "  def rank\n",
    "    return @rank\n",
    "  end\n",
    "end\n",
    "\n",
    "soldier = StarTrekCharacter.new :ensign\n",
    "puts \"Soldier's rank is: #{soldier.rank}\""
   ]
  },
  {
   "cell_type": "code",
   "execution_count": 19,
   "metadata": {},
   "outputs": [
    {
     "name": "stdout",
     "output_type": "stream",
     "text": [
      "Kirk's rank in TOS: captain\n"
     ]
    }
   ],
   "source": [
    "# We only have single inheritence\n",
    "\n",
    "class TOSCrew < StarTrekCharacter\n",
    "  def series\n",
    "    \"TOS\"\n",
    "  end\n",
    "end\n",
    "\n",
    "kirk = TOSCrew.new(:captain)\n",
    "puts \"Kirk's rank in #{kirk.series}: #{kirk.rank}\""
   ]
  },
  {
   "cell_type": "code",
   "execution_count": 21,
   "metadata": {},
   "outputs": [
    {
     "name": "stdout",
     "output_type": "stream",
     "text": [
      "Toyota says Beep, Beep\n",
      "Fido says Woof Woof\n"
     ]
    }
   ],
   "source": [
    "# Ruby is a pure object oriented, dynamically typed language\n",
    "# This leads to a very useful behavior which is nicknamed \"Duck Typing\"\n",
    "\n",
    "class Car\n",
    "  def initialize(name)\n",
    "    @name = name\n",
    "  end\n",
    "\n",
    "  def sound\n",
    "    \"#{@name} says Beep, Beep\"\n",
    "  end\n",
    "end\n",
    "\n",
    "class Dog\n",
    "  def initialize(name)\n",
    "    @name = name\n",
    "  end\n",
    "\n",
    "  def sound\n",
    "    \"#{@name} says Woof Woof\"\n",
    "  end\n",
    "end\n",
    "\n",
    "c1 = Car.new(\"Toyota\")\n",
    "d1 = Dog.new(\"Fido\")\n",
    "\n",
    "puts c1.sound\n",
    "puts d1.sound"
   ]
  },
  {
   "cell_type": "code",
   "execution_count": null,
   "metadata": {},
   "outputs": [],
   "source": []
  }
 ],
 "metadata": {
  "kernelspec": {
   "display_name": "Ruby 2.7.2",
   "language": "ruby",
   "name": "ruby"
  },
  "language_info": {
   "file_extension": ".rb",
   "mimetype": "application/x-ruby",
   "name": "ruby",
   "version": "2.7.2"
  }
 },
 "nbformat": 4,
 "nbformat_minor": 4
}
