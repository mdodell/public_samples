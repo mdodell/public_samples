{
 "cells": [
  {
   "cell_type": "markdown",
   "metadata": {},
   "source": [
    "## Collections, Blocks and Iteration\n",
    "* Duck typing among built in types\n",
    "* Collections and iteration\n",
    "* Map and Reduce"
   ]
  },
  {
   "cell_type": "code",
   "execution_count": 1,
   "metadata": {},
   "outputs": [
    {
     "data": {
      "text/plain": [
       "[[1, 2, 3], [\"mary\", \"had\", \"a\", \"little\", \"lamb\"]]"
      ]
     },
     "execution_count": 1,
     "metadata": {},
     "output_type": "execute_result"
    }
   ],
   "source": [
    "# Create a two level list of lists, and just for fun use different built in types\n",
    "\n",
    "list_of_lists = [ [1,2,3], [\"mary\", \"had\", \"a\", \"little\", \"lamb\"]]"
   ]
  },
  {
   "cell_type": "code",
   "execution_count": 3,
   "metadata": {},
   "outputs": [
    {
     "name": "stdout",
     "output_type": "stream",
     "text": [
      "Array\n",
      "2\n"
     ]
    }
   ],
   "source": [
    "# list_of_lists is itself an object\n",
    "puts list_of_lists.class\n",
    "puts list_of_lists.size"
   ]
  },
  {
   "cell_type": "code",
   "execution_count": 7,
   "metadata": {},
   "outputs": [
    {
     "name": "stdout",
     "output_type": "stream",
     "text": [
      "3\n",
      "5\n"
     ]
    }
   ],
   "source": [
    "# In Ruby (and many other languages) we prefer not to use for-next loops\n",
    "# Instead we rely on iterators. Notice the code inside the curly brackets, it's a `block`\n",
    "# The iterator treats the block like a method with one argument, calls it for each iteration\n",
    "\n",
    "list_of_lists.each { |v| puts v.size }; nil"
   ]
  },
  {
   "cell_type": "code",
   "execution_count": 11,
   "metadata": {},
   "outputs": [
    {
     "name": "stdout",
     "output_type": "stream",
     "text": [
      "[1, 2, 3]\n",
      "[\"mary\", \"had\", \"a\", \"little\", \"lamb\"]\n"
     ]
    }
   ],
   "source": [
    "# The list has two entries, each of them an array. We can print them out.\n",
    "list_of_lists.each { |arg| puts arg}; nil"
   ]
  },
  {
   "cell_type": "code",
   "execution_count": 12,
   "metadata": {},
   "outputs": [
    {
     "data": {
      "text/plain": [
       "[3, 5]"
      ]
     },
     "execution_count": 12,
     "metadata": {},
     "output_type": "execute_result"
    }
   ],
   "source": [
    "# Finally the very powerful map and reduce methods\n",
    "\n",
    "list_of_lists.map { |a_list| a_list.size }"
   ]
  },
  {
   "cell_type": "code",
   "execution_count": 19,
   "metadata": {},
   "outputs": [
    {
     "data": {
      "text/plain": [
       "8"
      ]
     },
     "execution_count": 19,
     "metadata": {},
     "output_type": "execute_result"
    }
   ],
   "source": [
    "list_of_lists.reduce(0) { |tot, a_list | tot + a_list.size}"
   ]
  },
  {
   "cell_type": "code",
   "execution_count": null,
   "metadata": {},
   "outputs": [],
   "source": []
  }
 ],
 "metadata": {
  "kernelspec": {
   "display_name": "Ruby 2.7.2",
   "language": "ruby",
   "name": "ruby"
  },
  "language_info": {
   "file_extension": ".rb",
   "mimetype": "application/x-ruby",
   "name": "ruby",
   "version": "2.7.2"
  }
 },
 "nbformat": 4,
 "nbformat_minor": 4
}
